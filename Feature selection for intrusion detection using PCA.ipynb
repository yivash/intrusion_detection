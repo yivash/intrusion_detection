{
 "cells": [
  {
   "cell_type": "code",
   "execution_count": 42,
   "metadata": {
    "scrolled": true
   },
   "outputs": [
    {
     "data": {
      "text/plain": [
       "(97044, 152)"
      ]
     },
     "execution_count": 42,
     "metadata": {},
     "output_type": "execute_result"
    }
   ],
   "source": [
    "import time\n",
    "from pandas import read_csv\n",
    "filename = 'train_imperson_without4n7_balanced_data.csv'\n",
    "data = read_csv(filename)\n",
    "data1=data.iloc[:,list(range(152))] # data1 now is a dataset with reduced dimensionality (without last column)\n",
    "Y_train = data.values[:,-1]\n",
    "data1.shape"
   ]
  },
  {
   "cell_type": "code",
   "execution_count": 43,
   "metadata": {
    "scrolled": false
   },
   "outputs": [
    {
     "data": {
      "text/html": [
       "<div>\n",
       "<style scoped>\n",
       "    .dataframe tbody tr th:only-of-type {\n",
       "        vertical-align: middle;\n",
       "    }\n",
       "\n",
       "    .dataframe tbody tr th {\n",
       "        vertical-align: top;\n",
       "    }\n",
       "\n",
       "    .dataframe thead th {\n",
       "        text-align: right;\n",
       "    }\n",
       "</style>\n",
       "<table border=\"1\" class=\"dataframe\">\n",
       "  <thead>\n",
       "    <tr style=\"text-align: right;\">\n",
       "      <th></th>\n",
       "      <th>1</th>\n",
       "      <th>2</th>\n",
       "      <th>3</th>\n",
       "      <th>5</th>\n",
       "      <th>6</th>\n",
       "      <th>8</th>\n",
       "      <th>9</th>\n",
       "      <th>10</th>\n",
       "      <th>11</th>\n",
       "      <th>12</th>\n",
       "      <th>...</th>\n",
       "      <th>145</th>\n",
       "      <th>146</th>\n",
       "      <th>147</th>\n",
       "      <th>148</th>\n",
       "      <th>149</th>\n",
       "      <th>150</th>\n",
       "      <th>151</th>\n",
       "      <th>152</th>\n",
       "      <th>153</th>\n",
       "      <th>154</th>\n",
       "    </tr>\n",
       "  </thead>\n",
       "  <tbody>\n",
       "    <tr>\n",
       "      <th>0</th>\n",
       "      <td>0</td>\n",
       "      <td>0</td>\n",
       "      <td>0</td>\n",
       "      <td>0.000066</td>\n",
       "      <td>0.000066</td>\n",
       "      <td>0.009150</td>\n",
       "      <td>0.009150</td>\n",
       "      <td>0</td>\n",
       "      <td>0</td>\n",
       "      <td>0</td>\n",
       "      <td>...</td>\n",
       "      <td>0.0</td>\n",
       "      <td>0.0</td>\n",
       "      <td>0</td>\n",
       "      <td>0</td>\n",
       "      <td>0</td>\n",
       "      <td>0</td>\n",
       "      <td>0</td>\n",
       "      <td>0</td>\n",
       "      <td>0</td>\n",
       "      <td>0.0</td>\n",
       "    </tr>\n",
       "    <tr>\n",
       "      <th>1</th>\n",
       "      <td>0</td>\n",
       "      <td>0</td>\n",
       "      <td>0</td>\n",
       "      <td>0.000014</td>\n",
       "      <td>0.000014</td>\n",
       "      <td>0.000000</td>\n",
       "      <td>0.000000</td>\n",
       "      <td>0</td>\n",
       "      <td>0</td>\n",
       "      <td>0</td>\n",
       "      <td>...</td>\n",
       "      <td>0.0</td>\n",
       "      <td>0.0</td>\n",
       "      <td>0</td>\n",
       "      <td>0</td>\n",
       "      <td>0</td>\n",
       "      <td>0</td>\n",
       "      <td>0</td>\n",
       "      <td>0</td>\n",
       "      <td>0</td>\n",
       "      <td>0.0</td>\n",
       "    </tr>\n",
       "    <tr>\n",
       "      <th>2</th>\n",
       "      <td>0</td>\n",
       "      <td>0</td>\n",
       "      <td>0</td>\n",
       "      <td>0.035528</td>\n",
       "      <td>0.035528</td>\n",
       "      <td>0.070588</td>\n",
       "      <td>0.070588</td>\n",
       "      <td>0</td>\n",
       "      <td>0</td>\n",
       "      <td>0</td>\n",
       "      <td>...</td>\n",
       "      <td>0.0</td>\n",
       "      <td>0.0</td>\n",
       "      <td>0</td>\n",
       "      <td>0</td>\n",
       "      <td>0</td>\n",
       "      <td>0</td>\n",
       "      <td>0</td>\n",
       "      <td>0</td>\n",
       "      <td>0</td>\n",
       "      <td>0.0</td>\n",
       "    </tr>\n",
       "    <tr>\n",
       "      <th>3</th>\n",
       "      <td>0</td>\n",
       "      <td>0</td>\n",
       "      <td>0</td>\n",
       "      <td>0.005128</td>\n",
       "      <td>0.005128</td>\n",
       "      <td>0.094771</td>\n",
       "      <td>0.094771</td>\n",
       "      <td>0</td>\n",
       "      <td>0</td>\n",
       "      <td>0</td>\n",
       "      <td>...</td>\n",
       "      <td>0.0</td>\n",
       "      <td>0.0</td>\n",
       "      <td>0</td>\n",
       "      <td>0</td>\n",
       "      <td>0</td>\n",
       "      <td>0</td>\n",
       "      <td>0</td>\n",
       "      <td>0</td>\n",
       "      <td>0</td>\n",
       "      <td>0.0</td>\n",
       "    </tr>\n",
       "    <tr>\n",
       "      <th>4</th>\n",
       "      <td>0</td>\n",
       "      <td>0</td>\n",
       "      <td>0</td>\n",
       "      <td>0.035116</td>\n",
       "      <td>0.035116</td>\n",
       "      <td>0.070588</td>\n",
       "      <td>0.070588</td>\n",
       "      <td>0</td>\n",
       "      <td>0</td>\n",
       "      <td>0</td>\n",
       "      <td>...</td>\n",
       "      <td>0.0</td>\n",
       "      <td>0.0</td>\n",
       "      <td>0</td>\n",
       "      <td>0</td>\n",
       "      <td>0</td>\n",
       "      <td>0</td>\n",
       "      <td>0</td>\n",
       "      <td>0</td>\n",
       "      <td>0</td>\n",
       "      <td>0.0</td>\n",
       "    </tr>\n",
       "  </tbody>\n",
       "</table>\n",
       "<p>5 rows × 152 columns</p>\n",
       "</div>"
      ],
      "text/plain": [
       "   1  2  3         5         6         8         9  10  11  12  ...  145  146  \\\n",
       "0  0  0  0  0.000066  0.000066  0.009150  0.009150   0   0   0  ...  0.0  0.0   \n",
       "1  0  0  0  0.000014  0.000014  0.000000  0.000000   0   0   0  ...  0.0  0.0   \n",
       "2  0  0  0  0.035528  0.035528  0.070588  0.070588   0   0   0  ...  0.0  0.0   \n",
       "3  0  0  0  0.005128  0.005128  0.094771  0.094771   0   0   0  ...  0.0  0.0   \n",
       "4  0  0  0  0.035116  0.035116  0.070588  0.070588   0   0   0  ...  0.0  0.0   \n",
       "\n",
       "   147  148  149  150  151  152  153  154  \n",
       "0    0    0    0    0    0    0    0  0.0  \n",
       "1    0    0    0    0    0    0    0  0.0  \n",
       "2    0    0    0    0    0    0    0  0.0  \n",
       "3    0    0    0    0    0    0    0  0.0  \n",
       "4    0    0    0    0    0    0    0  0.0  \n",
       "\n",
       "[5 rows x 152 columns]"
      ]
     },
     "execution_count": 43,
     "metadata": {},
     "output_type": "execute_result"
    }
   ],
   "source": [
    "data1.head(5)"
   ]
  },
  {
   "cell_type": "code",
   "execution_count": 44,
   "metadata": {},
   "outputs": [],
   "source": [
    "#Transform initial data into principal components\n",
    "from sklearn.decomposition import PCA\n",
    "pca = PCA(n_components=10,random_state=5)\n",
    "principalComponents = pca.fit_transform(data1)"
   ]
  },
  {
   "cell_type": "code",
   "execution_count": 45,
   "metadata": {},
   "outputs": [],
   "source": [
    "import pandas as pd\n",
    "\n",
    "pca_feat=pd.DataFrame.from_records(principalComponents)"
   ]
  },
  {
   "cell_type": "code",
   "execution_count": 46,
   "metadata": {},
   "outputs": [],
   "source": [
    "from sklearn.preprocessing import MinMaxScaler\n",
    "\n",
    "scaler = MinMaxScaler(feature_range=(0, 1))\n",
    "pca_feat10 = scaler.fit_transform(pca_feat)"
   ]
  },
  {
   "cell_type": "code",
   "execution_count": 47,
   "metadata": {},
   "outputs": [],
   "source": [
    "#convert transformed data to a pandas DataFrame\n",
    "data_new=pd.DataFrame(pca_feat10,columns=[str(i) for i in range(156,166)],dtype='float64')"
   ]
  },
  {
   "cell_type": "code",
   "execution_count": 48,
   "metadata": {
    "scrolled": true
   },
   "outputs": [
    {
     "data": {
      "text/html": [
       "<div>\n",
       "<style scoped>\n",
       "    .dataframe tbody tr th:only-of-type {\n",
       "        vertical-align: middle;\n",
       "    }\n",
       "\n",
       "    .dataframe tbody tr th {\n",
       "        vertical-align: top;\n",
       "    }\n",
       "\n",
       "    .dataframe thead th {\n",
       "        text-align: right;\n",
       "    }\n",
       "</style>\n",
       "<table border=\"1\" class=\"dataframe\">\n",
       "  <thead>\n",
       "    <tr style=\"text-align: right;\">\n",
       "      <th></th>\n",
       "      <th>1</th>\n",
       "      <th>2</th>\n",
       "      <th>3</th>\n",
       "      <th>5</th>\n",
       "      <th>6</th>\n",
       "      <th>8</th>\n",
       "      <th>9</th>\n",
       "      <th>10</th>\n",
       "      <th>11</th>\n",
       "      <th>12</th>\n",
       "      <th>...</th>\n",
       "      <th>156</th>\n",
       "      <th>157</th>\n",
       "      <th>158</th>\n",
       "      <th>159</th>\n",
       "      <th>160</th>\n",
       "      <th>161</th>\n",
       "      <th>162</th>\n",
       "      <th>163</th>\n",
       "      <th>164</th>\n",
       "      <th>165</th>\n",
       "    </tr>\n",
       "  </thead>\n",
       "  <tbody>\n",
       "    <tr>\n",
       "      <th>0</th>\n",
       "      <td>0</td>\n",
       "      <td>0</td>\n",
       "      <td>0</td>\n",
       "      <td>0.000066</td>\n",
       "      <td>0.000066</td>\n",
       "      <td>0.009150</td>\n",
       "      <td>0.009150</td>\n",
       "      <td>0</td>\n",
       "      <td>0</td>\n",
       "      <td>0</td>\n",
       "      <td>...</td>\n",
       "      <td>0.550640</td>\n",
       "      <td>0.566594</td>\n",
       "      <td>0.146304</td>\n",
       "      <td>0.100256</td>\n",
       "      <td>0.836051</td>\n",
       "      <td>0.696613</td>\n",
       "      <td>0.784784</td>\n",
       "      <td>0.430744</td>\n",
       "      <td>0.337058</td>\n",
       "      <td>0.335958</td>\n",
       "    </tr>\n",
       "    <tr>\n",
       "      <th>1</th>\n",
       "      <td>0</td>\n",
       "      <td>0</td>\n",
       "      <td>0</td>\n",
       "      <td>0.000014</td>\n",
       "      <td>0.000014</td>\n",
       "      <td>0.000000</td>\n",
       "      <td>0.000000</td>\n",
       "      <td>0</td>\n",
       "      <td>0</td>\n",
       "      <td>0</td>\n",
       "      <td>...</td>\n",
       "      <td>0.456212</td>\n",
       "      <td>0.892802</td>\n",
       "      <td>0.001978</td>\n",
       "      <td>0.204647</td>\n",
       "      <td>0.472908</td>\n",
       "      <td>0.323808</td>\n",
       "      <td>0.480850</td>\n",
       "      <td>0.507697</td>\n",
       "      <td>0.373927</td>\n",
       "      <td>0.404328</td>\n",
       "    </tr>\n",
       "    <tr>\n",
       "      <th>2</th>\n",
       "      <td>0</td>\n",
       "      <td>0</td>\n",
       "      <td>0</td>\n",
       "      <td>0.035528</td>\n",
       "      <td>0.035528</td>\n",
       "      <td>0.070588</td>\n",
       "      <td>0.070588</td>\n",
       "      <td>0</td>\n",
       "      <td>0</td>\n",
       "      <td>0</td>\n",
       "      <td>...</td>\n",
       "      <td>0.055976</td>\n",
       "      <td>0.934653</td>\n",
       "      <td>0.810121</td>\n",
       "      <td>0.298588</td>\n",
       "      <td>0.464161</td>\n",
       "      <td>0.325665</td>\n",
       "      <td>0.379265</td>\n",
       "      <td>0.536603</td>\n",
       "      <td>0.182348</td>\n",
       "      <td>0.245703</td>\n",
       "    </tr>\n",
       "    <tr>\n",
       "      <th>3</th>\n",
       "      <td>0</td>\n",
       "      <td>0</td>\n",
       "      <td>0</td>\n",
       "      <td>0.005128</td>\n",
       "      <td>0.005128</td>\n",
       "      <td>0.094771</td>\n",
       "      <td>0.094771</td>\n",
       "      <td>0</td>\n",
       "      <td>0</td>\n",
       "      <td>0</td>\n",
       "      <td>...</td>\n",
       "      <td>0.030435</td>\n",
       "      <td>0.964118</td>\n",
       "      <td>0.912767</td>\n",
       "      <td>0.251484</td>\n",
       "      <td>0.449929</td>\n",
       "      <td>0.320413</td>\n",
       "      <td>0.465086</td>\n",
       "      <td>0.483752</td>\n",
       "      <td>0.338431</td>\n",
       "      <td>0.967214</td>\n",
       "    </tr>\n",
       "    <tr>\n",
       "      <th>4</th>\n",
       "      <td>0</td>\n",
       "      <td>0</td>\n",
       "      <td>0</td>\n",
       "      <td>0.035116</td>\n",
       "      <td>0.035116</td>\n",
       "      <td>0.070588</td>\n",
       "      <td>0.070588</td>\n",
       "      <td>0</td>\n",
       "      <td>0</td>\n",
       "      <td>0</td>\n",
       "      <td>...</td>\n",
       "      <td>0.056380</td>\n",
       "      <td>0.934481</td>\n",
       "      <td>0.809766</td>\n",
       "      <td>0.298319</td>\n",
       "      <td>0.464289</td>\n",
       "      <td>0.326487</td>\n",
       "      <td>0.377564</td>\n",
       "      <td>0.538018</td>\n",
       "      <td>0.180630</td>\n",
       "      <td>0.240669</td>\n",
       "    </tr>\n",
       "  </tbody>\n",
       "</table>\n",
       "<p>5 rows × 162 columns</p>\n",
       "</div>"
      ],
      "text/plain": [
       "   1  2  3         5         6         8         9  10  11  12  ...       156  \\\n",
       "0  0  0  0  0.000066  0.000066  0.009150  0.009150   0   0   0  ...  0.550640   \n",
       "1  0  0  0  0.000014  0.000014  0.000000  0.000000   0   0   0  ...  0.456212   \n",
       "2  0  0  0  0.035528  0.035528  0.070588  0.070588   0   0   0  ...  0.055976   \n",
       "3  0  0  0  0.005128  0.005128  0.094771  0.094771   0   0   0  ...  0.030435   \n",
       "4  0  0  0  0.035116  0.035116  0.070588  0.070588   0   0   0  ...  0.056380   \n",
       "\n",
       "        157       158       159       160       161       162       163  \\\n",
       "0  0.566594  0.146304  0.100256  0.836051  0.696613  0.784784  0.430744   \n",
       "1  0.892802  0.001978  0.204647  0.472908  0.323808  0.480850  0.507697   \n",
       "2  0.934653  0.810121  0.298588  0.464161  0.325665  0.379265  0.536603   \n",
       "3  0.964118  0.912767  0.251484  0.449929  0.320413  0.465086  0.483752   \n",
       "4  0.934481  0.809766  0.298319  0.464289  0.326487  0.377564  0.538018   \n",
       "\n",
       "        164       165  \n",
       "0  0.337058  0.335958  \n",
       "1  0.373927  0.404328  \n",
       "2  0.182348  0.245703  \n",
       "3  0.338431  0.967214  \n",
       "4  0.180630  0.240669  \n",
       "\n",
       "[5 rows x 162 columns]"
      ]
     },
     "execution_count": 48,
     "metadata": {},
     "output_type": "execute_result"
    }
   ],
   "source": [
    "#Combine 2 tables with original and extracted features (principal components)\n",
    "data_total=pd.concat([data1,data_new],axis=1)\n",
    "data_total.head()#Now our matrix has 162 columns including new ones"
   ]
  },
  {
   "cell_type": "code",
   "execution_count": 49,
   "metadata": {},
   "outputs": [],
   "source": [
    "#Extract features for test data\n",
    "filename2 = 'test_imperson_without4n7_balanced_data.csv'\n",
    "data2 = read_csv(filename2)"
   ]
  },
  {
   "cell_type": "code",
   "execution_count": 50,
   "metadata": {},
   "outputs": [],
   "source": [
    "x_t=data2.iloc[:,list(range(152))]\n",
    "y_t=data2.iloc[:,-1]\n",
    "pca_t = pca.fit_transform(x_t, y_t)"
   ]
  },
  {
   "cell_type": "code",
   "execution_count": 51,
   "metadata": {},
   "outputs": [],
   "source": [
    "pca_tt = scaler.fit_transform(pca_t)\n",
    "test_new=pd.DataFrame(pca_tt,columns=[str(i) for i in range(156,166)],dtype='float64')"
   ]
  },
  {
   "cell_type": "code",
   "execution_count": 52,
   "metadata": {},
   "outputs": [
    {
     "data": {
      "text/plain": [
       "(40158, 162)"
      ]
     },
     "execution_count": 52,
     "metadata": {},
     "output_type": "execute_result"
    }
   ],
   "source": [
    "test_total=pd.concat([x_t,test_new],axis=1)\n",
    "test_total.shape"
   ]
  },
  {
   "cell_type": "code",
   "execution_count": 53,
   "metadata": {},
   "outputs": [],
   "source": [
    "data_total.to_csv('pca_data_total.csv',index= False)\n",
    "test_total.to_csv('pca_test_total.csv',index= False)"
   ]
  },
  {
   "cell_type": "code",
   "execution_count": 54,
   "metadata": {},
   "outputs": [],
   "source": [
    "from pandas import read_csv\n",
    "\n",
    "f01='pca_data_total.csv'\n",
    "TRAIN = read_csv(f01)\n",
    "f02='pca_test_total.csv'\n",
    "TEST = read_csv(f02)"
   ]
  },
  {
   "cell_type": "code",
   "execution_count": 56,
   "metadata": {},
   "outputs": [],
   "source": [
    "import numpy as np\n",
    "import pandas as pd\n",
    "from pandas import read_csv\n",
    "from numpy import set_printoptions\n",
    "from sklearn.feature_selection import SelectKBest\n",
    "from sklearn.feature_selection import chi2\n",
    "\n",
    "def best_features(scores,N):\n",
    "    scores_desc=scores.sort_values(na_position='first')[::-1]\n",
    "    features=[]\n",
    "    \n",
    "    for i in range(N):\n",
    "        features.append(scores_desc.index[i])\n",
    "    return features #algorithm sort all features in descending order from most to least important"
   ]
  },
  {
   "cell_type": "code",
   "execution_count": 57,
   "metadata": {},
   "outputs": [],
   "source": [
    "import time\n",
    "from sklearn.metrics import confusion_matrix\n",
    "from sklearn.linear_model import LogisticRegression\n",
    "from math import sqrt\n",
    "\n",
    "Y_train = data.values[:,-1]\n",
    "Y_test=data2.values[:,-1]\n",
    "\n",
    "def accuracy(matrix,Y_test):\n",
    "    corr=0\n",
    "    for i in range(2):\n",
    "        for j in range(2):\n",
    "            if i==j:\n",
    "                corr+=matrix[i][j]\n",
    "    accuracy=corr/len(Y_test)\n",
    "    return accuracy\n",
    "\n",
    "#Function to extract exact features from original train dataset\n",
    "def train_set(features,data):\n",
    "    train_set = data.iloc[:,features]\n",
    "    return train_set\n",
    "\n",
    "#Function to extract exact features from original test dataset\n",
    "def test_set(features,data): #features - list of indices\n",
    "    colnames=TRAIN.columns[features] #list with column names\n",
    "    test_set=data[colnames]\n",
    "    return test_set\n",
    "\n",
    "#function to run model and obtain accuracy and time\n",
    "def run_model(model,mod,features,train,test): \n",
    "    accuracy_mod=[]\n",
    "    time_mod=[]\n",
    "    for i in range(3,len(features)+1):\n",
    "        X_train=train_set(features[:i],train)\n",
    "        start=time.time()\n",
    "        model.fit(X_train, Y_train)\n",
    "        end=time.time()\n",
    "        elapsed=end-start\n",
    "        predicted = model.predict(test_set(features[:i],test))\n",
    "        matrix = confusion_matrix(Y_test, predicted)\n",
    "        acc=round(accuracy(matrix,Y_test),3)\n",
    "        accuracy_mod.append(acc)\n",
    "        time_mod.append(round(elapsed,3))\n",
    "    return accuracy_mod,time_mod"
   ]
  },
  {
   "cell_type": "code",
   "execution_count": 58,
   "metadata": {},
   "outputs": [
    {
     "name": "stdout",
     "output_type": "stream",
     "text": [
      "[68, 48, 64, 44, 153, 151, 47, 5, 6, 65, 79, 67, 70, 143, 142, 91, 63, 127, 152, 74]\n"
     ]
    }
   ],
   "source": [
    "#1.Univariate FS - Filter method.\n",
    "test1 = SelectKBest(score_func=chi2, k=20) \n",
    "fit1 = test1.fit(TRAIN, Y_train)\n",
    "# summarize scores\n",
    "set_printoptions(precision=3)\n",
    "scores1=pd.Series(fit1.scores_)\n",
    "\n",
    "features1=best_features(scores1,20)\n",
    "print(features1)"
   ]
  },
  {
   "cell_type": "code",
   "execution_count": 59,
   "metadata": {},
   "outputs": [
    {
     "data": {
      "text/plain": [
       "Index(['71', '51', '67', '47', '157', '154', '50', '8', '9', '68', '82', '70',\n",
       "       '73', '146', '145', '94', '66', '130', '156', '77'],\n",
       "      dtype='object')"
      ]
     },
     "execution_count": 59,
     "metadata": {},
     "output_type": "execute_result"
    }
   ],
   "source": [
    "TRAIN.columns[features1]"
   ]
  },
  {
   "cell_type": "code",
   "execution_count": 60,
   "metadata": {},
   "outputs": [
    {
     "name": "stdout",
     "output_type": "stream",
     "text": [
      "Accuracy for LR is [0.92, 0.936, 0.936, 0.936, 0.936, 0.938, 0.939, 0.943, 0.977, 0.977, 0.977, 0.977, 0.977, 0.979, 0.979, 0.982, 0.976, 0.971]\n",
      "Time for LR is [0.807, 0.403, 0.454, 0.622, 0.648, 0.834, 1.041, 1.48, 1.38, 1.482, 1.551, 2.0, 1.871, 1.946, 2.075, 1.946, 2.235, 2.149]\n"
     ]
    }
   ],
   "source": [
    "#1a. Filter method - Logistic Regression\n",
    "m1=LogisticRegression(random_state=5,solver='lbfgs',max_iter=2000)\n",
    "LR1=run_model(m1,'LR',features1,TRAIN,TEST) #features1 are indices for data_total dataset with 162 columns\n",
    "print('Accuracy for LR is',LR1[0])\n",
    "print('Time for LR is',LR1[1])"
   ]
  },
  {
   "cell_type": "code",
   "execution_count": 61,
   "metadata": {},
   "outputs": [
    {
     "name": "stdout",
     "output_type": "stream",
     "text": [
      "Accuracy for RF is [0.92, 0.939, 0.501, 0.502, 0.502, 0.538, 0.533, 0.534, 0.534, 0.535, 0.536, 0.536, 0.534, 0.536, 0.533, 0.536, 0.532, 0.522]\n",
      "Time for RF is [1.194, 1.303, 4.15, 4.137, 3.976, 3.517, 3.16, 2.76, 2.416, 2.494, 2.474, 2.496, 2.507, 2.337, 2.466, 2.415, 3.065, 3.599]\n"
     ]
    }
   ],
   "source": [
    "#1c. Filter method - RF\n",
    "from sklearn.ensemble import RandomForestClassifier\n",
    "\n",
    "m3=RandomForestClassifier(n_estimators=50,max_features=3,random_state=5)\n",
    "RF1=run_model(m3,'RF',features1,TRAIN,TEST)\n",
    "print('Accuracy for RF is',RF1[0])\n",
    "print('Time for RF is',RF1[1])"
   ]
  },
  {
   "cell_type": "code",
   "execution_count": 62,
   "metadata": {},
   "outputs": [
    {
     "name": "stdout",
     "output_type": "stream",
     "text": [
      "[4, 5, 6, 44, 64, 67, 68, 70, 79, 87, 95, 104, 108, 109, 117, 137, 138, 140, 159, 161]\n"
     ]
    }
   ],
   "source": [
    "#3. Feature selection with RFE - Wrapper method.\n",
    "from sklearn.feature_selection import RFE\n",
    "import warnings\n",
    "warnings.filterwarnings(\"ignore\")\n",
    "\n",
    "model = LogisticRegression(random_state=5)\n",
    "rfe = RFE(model, 20)\n",
    "wrapper = rfe.fit(TRAIN, Y_train)\n",
    "f3=wrapper.support_\n",
    "features3=[i for i in range(len(f3)) if f3[i]==True]\n",
    "print(features3)"
   ]
  },
  {
   "cell_type": "code",
   "execution_count": 63,
   "metadata": {},
   "outputs": [
    {
     "name": "stdout",
     "output_type": "stream",
     "text": [
      "Accuracy for LR is [0.696, 0.878, 0.941, 0.942, 0.943, 0.942, 0.972, 0.977, 0.977, 0.977, 0.977, 0.978, 0.98, 0.518, 0.531, 0.531, 0.526, 0.498]\n",
      "Time for LR is [0.708, 0.368, 0.526, 0.641, 0.469, 0.725, 0.633, 1.171, 1.277, 1.303, 1.251, 1.304, 1.476, 1.292, 1.347, 1.4, 1.572, 1.414]\n"
     ]
    }
   ],
   "source": [
    "features3=[4, 5, 6, 44, 64, 67, 68, 70, 79, 87, 95, 104, 108, 109, 117, 137, 138, 140, 159, 161]\n",
    "#Base line\n",
    "m1=LogisticRegression(random_state=5,solver='lbfgs')\n",
    "LR3b=run_model(m1,'LR',features3,TRAIN,TEST)\n",
    "print('Accuracy for LR is',LR3b[0])\n",
    "print('Time for LR is',LR3b[1])"
   ]
  },
  {
   "cell_type": "code",
   "execution_count": 67,
   "metadata": {},
   "outputs": [
    {
     "name": "stdout",
     "output_type": "stream",
     "text": [
      "Accuracy for LR is [0.427, 0.427, 0.568, 0.936, 0.945, 0.599, 0.599, 0.601, 0.986, 0.986, 0.986, 0.986, 0.986, 0.985, 0.525, 0.526, 0.526, 0.498]\n",
      "Time for LR is [0.356, 0.262, 0.576, 0.547, 0.579, 0.499, 0.762, 0.876, 1.266, 1.521, 1.273, 1.49, 1.512, 1.632, 1.679, 1.592, 1.637, 1.45]\n"
     ]
    }
   ],
   "source": [
    "#2a. Wrapper method - Logistic Regression\n",
    "import warnings\n",
    "warnings.filterwarnings(\"ignore\")\n",
    "\n",
    "#Justification for this feature set see below\n",
    "m1=LogisticRegression(random_state=5,solver='lbfgs')\n",
    "LR3=run_model(m1,'LR',[159,4, 5, 6, 44, 64, 67, 68, 70, 79, 87, 95, 104, 108, 109, 117, 137, 138, 140,161],TRAIN,TEST)\n",
    "print('Accuracy for LR is',LR3[0])\n",
    "print('Time for LR is',LR3[1])"
   ]
  },
  {
   "cell_type": "code",
   "execution_count": 80,
   "metadata": {},
   "outputs": [
    {
     "data": {
      "image/png": "[encoded data removed]",
      "text/plain": [
       "<Figure size 432x288 with 1 Axes>"
      ]
     },
     "metadata": {},
     "output_type": "display_data"
    }
   ],
   "source": [
    "#Accuracy of visualisation\n",
    "import matplotlib.pyplot as plt\n",
    "import seaborn as sns\n",
    "\n",
    "sns.set_style(\"darkgrid\")\n",
    "axes = plt.gca()\n",
    "axes.set_xlim([2,20])\n",
    "plt.xlabel('Number of features')\n",
    "plt.ylabel('Accuracy')\n",
    "plt.title('Accuracy of 3 algorithms after Filter FS')\n",
    "plt.plot(list(range(3,21)),LR3[0])\n",
    "plt.legend(['LR'], loc='center')\n",
    "plt.show()"
   ]
  },
  {
   "cell_type": "code",
   "execution_count": 81,
   "metadata": {},
   "outputs": [
    {
     "data": {
      "image/png": "[encoded data removed]",
      "text/plain": [
       "<Figure size 432x288 with 1 Axes>"
      ]
     },
     "metadata": {},
     "output_type": "display_data"
    }
   ],
   "source": [
    "#Time to build model visualisation\n",
    "import matplotlib.pyplot as plt\n",
    "import seaborn as sns\n",
    "\n",
    "sns.set_style(\"darkgrid\")\n",
    "axes = plt.gca()\n",
    "axes.set_xlim([2,20])\n",
    "plt.xlabel('Number of features')\n",
    "plt.ylabel('Time to build model')\n",
    "plt.title('TTB model for 3 algorithms after Filter FS')\n",
    "plt.plot(list(range(3,21)),LR3[1])\n",
    "plt.legend(['LR'], loc='upper left')\n",
    "plt.show()"
   ]
  },
  {
   "cell_type": "code",
   "execution_count": 68,
   "metadata": {},
   "outputs": [
    {
     "name": "stdout",
     "output_type": "stream",
     "text": [
      "{'1': 'frame.interface_id', '2': 'frame.dlt', '3': 'frame.offset_shift', '5': 'frame.time_delta', '6': 'frame.time_delta_displayed', '8': 'frame.len', '9': 'frame.cap_len', '10': 'frame.marked', '11': 'frame.ignored', '12': 'radiotap.version', '13': 'radiotap.pad', '14': 'radiotap.length', '15': 'radiotap.present.tsft', '16': 'radiotap.present.flags', '17': 'radiotap.present.rate', '18': 'radiotap.present.channel', '19': 'radiotap.present.fhss', '20': 'radiotap.present.dbm_antsignal', '21': 'radiotap.present.dbm_antnoise', '22': 'radiotap.present.lock_quality', '23': 'radiotap.present.tx_attenuation', '24': 'radiotap.present.db_tx_attenuation', '25': 'radiotap.present.dbm_tx_power', '26': 'radiotap.present.antenna', '27': 'radiotap.present.db_antsignal', '28': 'radiotap.present.db_antnoise', '29': 'radiotap.present.rxflags', '30': 'radiotap.present.xchannel', '31': 'radiotap.present.mcs', '32': 'radiotap.present.ampdu', '33': 'radiotap.present.vht', '34': 'radiotap.present.reserved', '35': 'radiotap.present.rtap_ns', '36': 'radiotap.present.vendor_ns', '37': 'radiotap.present.ext', '38': 'radiotap.mactime', '39': 'radiotap.flags.cfp', '40': 'radiotap.flags.preamble', '41': 'radiotap.flags.wep', '42': 'radiotap.flags.frag', '43': 'radiotap.flags.fcs', '44': 'radiotap.flags.datapad', '45': 'radiotap.flags.badfcs', '46': 'radiotap.flags.shortgi', '47': 'radiotap.datarate', '48': 'radiotap.channel.freq', '49': 'radiotap.channel.type.turbo', '50': 'radiotap.channel.type.cck', '51': 'radiotap.channel.type.ofdm', '52': 'radiotap.channel.type.2ghz', '53': 'radiotap.channel.type.5ghz', '54': 'radiotap.channel.type.passive', '55': 'radiotap.channel.type.dynamic', '56': 'radiotap.channel.type.gfsk', '57': 'radiotap.channel.type.gsm', '58': 'radiotap.channel.type.sturbo', '59': 'radiotap.channel.type.half', '60': 'radiotap.channel.type.quarter', '61': 'radiotap.dbm_antsignal', '62': 'radiotap.antenna', '63': 'radiotap.rxflags.badplcp', '64': 'wlan.fc.type_subtype', '65': 'wlan.fc.version', '66': 'wlan.fc.type', '67': 'wlan.fc.subtype', '68': 'wlan.fc.ds', '69': 'wlan.fc.frag', '70': 'wlan.fc.retry', '71': 'wlan.fc.pwrmgt', '72': 'wlan.fc.moredata', '73': 'wlan.fc.protected', '74': 'wlan.fc.order', '75': 'wlan.duration', '76': 'wlan.ra', '77': 'wlan.da', '78': 'wlan.ta', '79': 'wlan.sa', '80': 'wlan.bssid', '81': 'wlan.frag', '82': 'wlan.seq', '83': 'wlan.bar.type', '84': 'wlan.ba.control.ackpolicy', '85': 'wlan.ba.control.multitid', '86': 'wlan.ba.control.cbitmap', '87': 'wlan.bar.compressed.tidinfo', '88': 'wlan.ba.bm', '89': 'wlan.fcs_good', '90': 'wlan_mgt.fixed.capabilities.ess', '91': 'wlan_mgt.fixed.capabilities.ibss', '92': 'wlan_mgt.fixed.capabilities.cfpoll.ap', '93': 'wlan_mgt.fixed.capabilities.privacy', '94': 'wlan_mgt.fixed.capabilities.preamble', '95': 'wlan_mgt.fixed.capabilities.pbcc', '96': 'wlan_mgt.fixed.capabilities.agility', '97': 'wlan_mgt.fixed.capabilities.spec_man', '98': 'wlan_mgt.fixed.capabilities.short_slot_time', '99': 'wlan_mgt.fixed.capabilities.apsd', '100': 'wlan_mgt.fixed.capabilities.radio_measurement', '101': 'wlan_mgt.fixed.capabilities.dsss_ofdm', '102': 'wlan_mgt.fixed.capabilities.del_blk_ack', '103': 'wlan_mgt.fixed.capabilities.imm_blk_ack', '104': 'wlan_mgt.fixed.listen_ival', '105': 'wlan_mgt.fixed.current_ap', '106': 'wlan_mgt.fixed.status_code', '107': 'wlan_mgt.fixed.timestamp', '108': 'wlan_mgt.fixed.beacon', '109': 'wlan_mgt.fixed.aid', '110': 'wlan_mgt.fixed.reason_code', '111': 'wlan_mgt.fixed.auth.alg', '112': 'wlan_mgt.fixed.auth_seq', '113': 'wlan_mgt.fixed.category_code', '114': 'wlan_mgt.fixed.htact', '115': 'wlan_mgt.fixed.chanwidth', '116': 'wlan_mgt.fixed.fragment', '117': 'wlan_mgt.fixed.sequence', '118': 'wlan_mgt.tagged.all', '119': 'wlan_mgt.ssid', '120': 'wlan_mgt.ds.current_channel', '121': 'wlan_mgt.tim.dtim_count', '122': 'wlan_mgt.tim.dtim_period', '123': 'wlan_mgt.tim.bmapctl.multicast', '124': 'wlan_mgt.tim.bmapctl.offset', '125': 'wlan_mgt.country_info.environment', '126': 'wlan_mgt.rsn.version', '127': 'wlan_mgt.rsn.gcs.type', '128': 'wlan_mgt.rsn.pcs.count', '129': 'wlan_mgt.rsn.akms.count', '130': 'wlan_mgt.rsn.akms.type', '131': 'wlan_mgt.rsn.capabilities.preauth', '132': 'wlan_mgt.rsn.capabilities.no_pairwise', '133': 'wlan_mgt.rsn.capabilities.ptksa_replay_counter', '134': 'wlan_mgt.rsn.capabilities.gtksa_replay_counter', '135': 'wlan_mgt.rsn.capabilities.mfpr', '136': 'wlan_mgt.rsn.capabilities.mfpc', '137': 'wlan_mgt.rsn.capabilities.peerkey', '138': 'wlan_mgt.tcprep.trsmt_pow', '139': 'wlan_mgt.tcprep.link_mrg', '140': 'wlan.wep.iv', '141': 'wlan.wep.key', '142': 'wlan.wep.icv', '143': 'wlan.tkip.extiv', '144': 'wlan.ccmp.extiv', '145': 'wlan.qos.tid', '146': 'wlan.qos.priority', '147': 'wlan.qos.eosp', '148': 'wlan.qos.ack', '149': 'wlan.qos.amsdupresent', '150': 'wlan.qos.buf_state_indicated', '151': 'wlan.qos.bit4', '152': 'wlan.qos.txop_dur_req', '153': 'wlan.qos.buf_state_indicated', '154': 'data.len', '155': 'class'}\n"
     ]
    }
   ],
   "source": [
    "#Mapping column indices and column names\n",
    "attributes = pd.read_csv('attributes.csv')\n",
    "names = list(attributes['attributes'])\n",
    "numbers=list(data.columns)#till 155 elementh\n",
    "D_attr={}\n",
    "for i in range(len(numbers)):\n",
    "    D_attr[numbers[i]]=names[i]\n",
    "print(D_attr)"
   ]
  },
  {
   "cell_type": "code",
   "execution_count": 69,
   "metadata": {},
   "outputs": [],
   "source": [
    "#step to create final CSV\n",
    "featurization=list(TRAIN.columns[[159,4, 5, 6, 44, 64, 67, 68, 70, 79, 87, 95, 104, 108, 109, 117, 137, 138, 140,161]]) #data_red - reduced dataset\n",
    "#featurization.append('155')"
   ]
  },
  {
   "cell_type": "code",
   "execution_count": 70,
   "metadata": {},
   "outputs": [],
   "source": [
    "#Select subset from data according to particular features\n",
    "featurization_pca_train=TRAIN[featurization] #dataset with indices as column names\n",
    "featurization_pca_test=TEST[featurization]"
   ]
  },
  {
   "cell_type": "code",
   "execution_count": 71,
   "metadata": {},
   "outputs": [],
   "source": [
    "colnames=[]\n",
    "for i in featurization:\n",
    "    if int(i)<155:\n",
    "        colnames.append(D_attr[i]) #make new list with column names according to indices\n",
    "    else:\n",
    "        colnames.append(i)\n",
    "featurization_pca_train.columns = colnames \n",
    "featurization_pca_test.columns = colnames "
   ]
  },
  {
   "cell_type": "code",
   "execution_count": 72,
   "metadata": {},
   "outputs": [],
   "source": [
    "featurization_pca_train['class']=Y_train\n",
    "featurization_pca_test['class']=data2.iloc[:,-1]"
   ]
  },
  {
   "cell_type": "code",
   "execution_count": 73,
   "metadata": {},
   "outputs": [],
   "source": [
    "featurization_pca_train.to_csv('featurization_pca_train.csv',index= False)\n",
    "featurization_pca_test.to_csv('featurization_pca_test.csv', index= False)"
   ]
  },
  {
   "cell_type": "code",
   "execution_count": 74,
   "metadata": {},
   "outputs": [
    {
     "name": "stdout",
     "output_type": "stream",
     "text": [
      "0.986\n"
     ]
    }
   ],
   "source": [
    "#Double checking the result\n",
    "\n",
    "data_train = pd.read_csv(\"featurization_pca_train.csv\")\n",
    "data_test = pd.read_csv(\"featurization_pca_test.csv\")\n",
    "train_xx=data_train.iloc[:,:12]\n",
    "train_yy=data_train.iloc[:,-1]\n",
    "test_xx=data_test.iloc[:,:12]\n",
    "test_yy=data_test.iloc[:,-1]\n",
    "modlr=LogisticRegression(random_state=5,solver='lbfgs')\n",
    "modlr.fit(train_xx, train_yy)\n",
    "predicted = modlr.predict(test_xx)\n",
    "matrix = confusion_matrix(test_yy, predicted)\n",
    "acc=round(accuracy(matrix,test_yy),3)\n",
    "print(acc)"
   ]
  },
  {
   "cell_type": "code",
   "execution_count": 75,
   "metadata": {},
   "outputs": [
    {
     "data": {
      "text/plain": [
       "{5: 0.98,\n",
       " 6: 0.98,\n",
       " 7: 0.98,\n",
       " 8: 0.98,\n",
       " 9: 0.98,\n",
       " 10: 0.98,\n",
       " 11: 0.98,\n",
       " 12: 0.98,\n",
       " 13: 0.98,\n",
       " 14: 0.98,\n",
       " 15: 0.972,\n",
       " 16: 0.943,\n",
       " 17: 0.979,\n",
       " 18: 0.986,\n",
       " 19: 0.941}"
      ]
     },
     "execution_count": 75,
     "metadata": {},
     "output_type": "execute_result"
    }
   ],
   "source": [
    "#Justification that we should shift one feature\n",
    "Iter={}\n",
    "for i in range(5,20):\n",
    "    allfeat=[4, 5, 6, 44, 64, 67, 68, 70, 79, 87, 95, 104, 108, 109, 117, 137, 138, 140, 159, 161]\n",
    "    allfeat.insert(0,allfeat.pop(i))\n",
    "    LRz=run_model(m1,'LR',allfeat,TRAIN,TEST)\n",
    "    Iter[i]=max(LRz[0])\n",
    "Iter"
   ]
  },
  {
   "cell_type": "code",
   "execution_count": null,
   "metadata": {},
   "outputs": [],
   "source": [
    "#with feature N159 we obtained best result."
   ]
  },
  {
   "cell_type": "code",
   "execution_count": 78,
   "metadata": {},
   "outputs": [
    {
     "data": {
      "text/plain": [
       "['163',\n",
       " 'frame.time_delta_displayed',\n",
       " 'frame.len',\n",
       " 'frame.cap_len',\n",
       " 'radiotap.datarate',\n",
       " 'wlan.fc.subtype',\n",
       " 'wlan.fc.retry',\n",
       " 'wlan.fc.pwrmgt',\n",
       " 'wlan.fc.protected',\n",
       " 'wlan.seq',\n",
       " 'wlan_mgt.fixed.capabilities.ess',\n",
       " 'wlan_mgt.fixed.capabilities.short_slot_time']"
      ]
     },
     "execution_count": 78,
     "metadata": {},
     "output_type": "execute_result"
    }
   ],
   "source": [
    "#List of 12 best features for intrusion detection using PCA\n",
    "list(train_xx)"
   ]
  }
 ],
 "metadata": {
  "kernelspec": {
   "display_name": "Python 3",
   "language": "python",
   "name": "python3"
  },
  "language_info": {
   "codemirror_mode": {
    "name": "ipython",
    "version": 3
   },
   "file_extension": ".py",
   "mimetype": "text/x-python",
   "name": "python",
   "nbconvert_exporter": "python",
   "pygments_lexer": "ipython3",
   "version": "3.7.3"
  }
 },
 "nbformat": 4,
 "nbformat_minor": 2
}
